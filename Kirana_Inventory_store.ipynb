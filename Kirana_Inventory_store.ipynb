{
  "nbformat": 4,
  "nbformat_minor": 0,
  "metadata": {
    "colab": {
      "provenance": [],
      "authorship_tag": "ABX9TyNX18fAn2MW9uDecUuqJPSc",
      "include_colab_link": true
    },
    "kernelspec": {
      "name": "python3",
      "display_name": "Python 3"
    },
    "language_info": {
      "name": "python"
    }
  },
  "cells": [
    {
      "cell_type": "markdown",
      "metadata": {
        "id": "view-in-github",
        "colab_type": "text"
      },
      "source": [
        "<a href=\"https://colab.research.google.com/github/mahimaboppi/chatbox/blob/main/Kirana_Inventory_store.ipynb\" target=\"_parent\"><img src=\"https://colab.research.google.com/assets/colab-badge.svg\" alt=\"Open In Colab\"/></a>"
      ]
    },
    {
      "cell_type": "code",
      "source": [
        "import pandas as pd\n",
        "from datetime import datetime\n",
        "\n",
        "# Inventory and Sales Log DataFrames\n",
        "inventory = pd.DataFrame(columns=['ProductID', 'Name', 'Category', 'Price', 'Quantity'])\n",
        "sales_log = pd.DataFrame(columns=['Date', 'ProductID', 'Name', 'Quantity', 'TotalPrice'])\n",
        "\n",
        "# Add a new product\n",
        "def add_product(product_id, name, category, price, quantity):\n",
        "    global inventory\n",
        "    if product_id in inventory['ProductID'].values:\n",
        "        print(\"❌ Product ID already exists.\")\n",
        "        return\n",
        "    new_product = pd.DataFrame([{\n",
        "        'ProductID': product_id,\n",
        "        'Name': name,\n",
        "        'Category': category,\n",
        "        'Price': price,\n",
        "        'Quantity': quantity\n",
        "    }])\n",
        "    inventory = pd.concat([inventory, new_product], ignore_index=True)\n",
        "    print(\"✅ Product added!\")\n",
        "\n",
        "# Update product price\n",
        "def update_price(product_id, new_price):\n",
        "    global inventory\n",
        "    if product_id not in inventory['ProductID'].values:\n",
        "        print(\"❌ Product ID not found.\")\n",
        "        return\n",
        "    inventory.loc[inventory['ProductID'] == product_id, 'Price'] = new_price\n",
        "    print(f\"💰 Price updated to ₹{new_price}\")\n",
        "\n",
        "# View inventory\n",
        "def view_inventory():\n",
        "    if inventory.empty:\n",
        "        print(\"📭 Inventory is empty.\")\n",
        "    else:\n",
        "        print(inventory.to_string(index=False))\n",
        "\n",
        "# Generate a bill\n",
        "def generate_bill(purchases):\n",
        "    global inventory, sales_log\n",
        "    bill_items = []\n",
        "    total_amount = 0\n",
        "    errors = []\n",
        "\n",
        "    for pid, qty in purchases:\n",
        "        product = inventory[inventory['ProductID'] == pid]\n",
        "        if product.empty:\n",
        "            errors.append(f\"❌ Product ID {pid} not found.\")\n",
        "            continue\n",
        "        available_qty = product['Quantity'].values[0]\n",
        "        name = product['Name'].values[0]\n",
        "        price = product['Price'].values[0]\n",
        "\n",
        "        if qty > available_qty:\n",
        "            errors.append(f\"⚠️ Not enough stock for '{name}'\")\n",
        "            continue\n",
        "\n",
        "        inventory.loc[inventory['ProductID'] == pid, 'Quantity'] -= qty\n",
        "        item_total = price * qty\n",
        "        total_amount += item_total\n",
        "        bill_items.append((pid, name, price, qty, item_total))\n",
        "\n",
        "        # Log sale\n",
        "        sales_log = pd.concat([sales_log, pd.DataFrame([{\n",
        "            'Date': datetime.now().strftime('%Y-%m-%d'),\n",
        "            'ProductID': pid,\n",
        "            'Name': name,\n",
        "            'Quantity': qty,\n",
        "            'TotalPrice': item_total\n",
        "        }])], ignore_index=True)\n",
        "\n",
        "    # Print bill\n",
        "    print(\"🧾 KIRANA STORE BILL\")\n",
        "    print(f\"🕒 {datetime.now().strftime('%Y-%m-%d %H:%M:%S')}\")\n",
        "    print(\"-\" * 40)\n",
        "    print(f\"{'Item':<10} {'Price':<6} {'Qty':<4} {'Total':<6}\")\n",
        "    print(\"-\" * 40)\n",
        "    for _, name, price, qty, total in bill_items:\n",
        "        print(f\"{name:<10} ₹{price:<6} {qty:<4} ₹{total:<6}\")\n",
        "    print(\"-\" * 40)\n",
        "    print(f\"{'TOTAL':<22} ₹{total_amount}\")\n",
        "    print(\"-\" * 40)\n",
        "\n",
        "    if errors:\n",
        "        print(\"\\n⚠️ Issues:\")\n",
        "        for err in errors:\n",
        "            print(err)\n",
        "\n",
        "# Generate sales report\n",
        "def generate_sales_report(period='daily'):\n",
        "    global sales_log\n",
        "    if sales_log.empty:\n",
        "        print(\"📭 No sales data.\")\n",
        "        return\n",
        "\n",
        "    if period == 'daily':\n",
        "        report = sales_log.groupby('Date').agg({'Quantity': 'sum', 'TotalPrice': 'sum'}).reset_index()\n",
        "        print(\"📊 Daily Sales Report:\")\n",
        "        print(report.to_string(index=False))\n",
        "    elif period == 'weekly':\n",
        "        sales_log['Week'] = pd.to_datetime(sales_log['Date']).dt.isocalendar().week\n",
        "        report = sales_log.groupby('Week').agg({'Quantity': 'sum', 'TotalPrice': 'sum'}).reset_index()\n",
        "        print(\"📊 Weekly Sales Report:\")\n",
        "        print(report.to_string(index=False))\n",
        "    else:\n",
        "        print(\"❌ Invalid period. Use 'daily' or 'weekly'.\")\n",
        "\n",
        "# Save inventory and sales\n",
        "def save_all():\n",
        "    inventory.to_csv(\"inventory.csv\", index=False)\n",
        "    sales_log.to_csv(\"sales.csv\", index=False)\n",
        "    print(\"💾 Data saved.\")\n",
        "\n",
        "# Load inventory and sales\n",
        "def load_all():\n",
        "    global inventory, sales_log\n",
        "    try:\n",
        "        inventory = pd.read_csv(\"inventory.csv\")\n",
        "        sales_log = pd.read_csv(\"sales.csv\")\n",
        "        print(\"📂 Data loaded.\")\n",
        "    except Exception as e:\n",
        "        print(\"❌ Error loading data:\", e)\n"
      ],
      "metadata": {
        "id": "D5DqSVXCbqLD"
      },
      "execution_count": 1,
      "outputs": []
    },
    {
      "cell_type": "code",
      "source": [
        "# Add products\n",
        "add_product(\"P001\", \"Maggie\", \"Snacks\", 15, 100)\n",
        "add_product(\"P002\", \"Soap\", \"Toiletries\", 30, 50)\n",
        "\n",
        "# View inventory\n",
        "view_inventory()\n",
        "\n",
        "# Generate a bill\n",
        "generate_bill([(\"P001\", 5), (\"P002\", 2)])\n",
        "\n",
        "# Sales report\n",
        "generate_sales_report(\"daily\")\n",
        "\n",
        "# Save and load\n",
        "save_all()\n",
        "load_all()\n"
      ],
      "metadata": {
        "colab": {
          "base_uri": "https://localhost:8080/"
        },
        "id": "V6EsYaD4b2vk",
        "outputId": "9dc835ea-25dd-40fd-a5a4-8925d235b645"
      },
      "execution_count": 2,
      "outputs": [
        {
          "output_type": "stream",
          "name": "stdout",
          "text": [
            "✅ Product added!\n",
            "✅ Product added!\n",
            "ProductID   Name   Category Price Quantity\n",
            "     P001 Maggie     Snacks    15      100\n",
            "     P002   Soap Toiletries    30       50\n",
            "🧾 KIRANA STORE BILL\n",
            "🕒 2025-04-05 10:11:59\n",
            "----------------------------------------\n",
            "Item       Price  Qty  Total \n",
            "----------------------------------------\n",
            "Maggie     ₹15     5    ₹75    \n",
            "Soap       ₹30     2    ₹60    \n",
            "----------------------------------------\n",
            "TOTAL                  ₹135\n",
            "----------------------------------------\n",
            "📊 Daily Sales Report:\n",
            "      Date Quantity TotalPrice\n",
            "2025-04-05        7        135\n",
            "💾 Data saved.\n",
            "📂 Data loaded.\n"
          ]
        }
      ]
    },
    {
      "cell_type": "code",
      "source": [
        "def save_all():\n",
        "    inventory.to_csv(\"inventory.csv\", index=False)\n",
        "    sales_log.to_csv(\"sales.csv\", index=False)\n",
        "    print(\"💾 Data saved to inventory.csv and sales.csv\")\n"
      ],
      "metadata": {
        "id": "pJby6jj7cU6X"
      },
      "execution_count": 3,
      "outputs": []
    },
    {
      "cell_type": "code",
      "source": [
        "def load_all():\n",
        "    global inventory, sales_log\n",
        "    try:\n",
        "        inventory = pd.read_csv(\"inventory.csv\")\n",
        "        sales_log = pd.read_csv(\"sales.csv\")\n",
        "        print(\"📂 Data loaded successfully.\")\n",
        "    except FileNotFoundError:\n",
        "        print(\"⚠️ Files not found. Make sure to save first or check the file names.\")\n",
        "    except Exception as e:\n",
        "        print(f\"❌ Error loading data: {e}\")\n"
      ],
      "metadata": {
        "id": "CaQFF40JcX5-"
      },
      "execution_count": 4,
      "outputs": []
    },
    {
      "cell_type": "code",
      "source": [
        "# After adding products or making sales\n",
        "save_all()\n",
        "\n",
        "# When reopening the notebook next time\n",
        "load_all()\n"
      ],
      "metadata": {
        "colab": {
          "base_uri": "https://localhost:8080/"
        },
        "id": "1E9CTVc5caJt",
        "outputId": "deb2fce2-bd5a-4cbc-88b1-c2bb4c69a332"
      },
      "execution_count": 5,
      "outputs": [
        {
          "output_type": "stream",
          "name": "stdout",
          "text": [
            "💾 Data saved to inventory.csv and sales.csv\n",
            "📂 Data loaded successfully.\n"
          ]
        }
      ]
    }
  ]
}